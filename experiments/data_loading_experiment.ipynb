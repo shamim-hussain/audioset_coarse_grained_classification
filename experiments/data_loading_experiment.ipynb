{
 "cells": [
  {
   "cell_type": "code",
   "execution_count": 1,
   "metadata": {},
   "outputs": [],
   "source": [
    "import pandas as pd\n",
    "import numpy as np\n",
    "import json\n",
    "import zipfile\n",
    "from tqdm import tqdm\n",
    "\n",
    "class Dataset:\n",
    "    _log_mfb_shape = (None, 64)\n",
    "    def __init__(self, annotations_path, dataset_path, ytids_path,\n",
    "                 class_associations=(('speech',0),('music',1),('noise',2)),\n",
    "                 transform_fn = None,\n",
    "                 load_data=True):\n",
    "        self.annotations = pd.read_csv(annotations_path).set_index('ytid')\n",
    "        self.dataset_path = dataset_path\n",
    "        with open(ytids_path, 'r') as f:\n",
    "            self.ytids = json.load(f)\n",
    "        self.class_associations = dict(class_associations)\n",
    "        self.reverse_class_associations = dict((v,k) for k,v in class_associations)\n",
    "        self.transform_fn = transform_fn\n",
    "        \n",
    "        if load_data:\n",
    "            self.load_data()\n",
    "    \n",
    "    def load_data(self):\n",
    "        self.data = {}\n",
    "        with zipfile.ZipFile(self.dataset_path, 'r') as zf:\n",
    "            for ytid in tqdm(self.ytids, desc='Loading data'):\n",
    "                data = {}\n",
    "                with zf.open(self.annotations.loc[ytid,'log_mfb_path']) as f:\n",
    "                    data['log_mfb'] = np.load(f)\n",
    "                \n",
    "                self.data[ytid] = (data, self.class_associations[\n",
    "                                       self.annotations.loc[ytid,'plausible_superclass']])\n",
    "    \n",
    "    def __getitem__(self, index):\n",
    "        ytid = self.ytids[index]\n",
    "        data_without_ytid, label = self.data[ytid]\n",
    "        data = {'ytid':ytid}\n",
    "        data.update(data_without_ytid)\n",
    "        if self.transform_fn is not None:\n",
    "            data = self.transform_fn(data)\n",
    "        return data, label\n",
    "    \n",
    "    def __len__(self):\n",
    "        return len(self.data)\n",
    "    \n",
    "    @property\n",
    "    def tf_dataloader(self):\n",
    "        try:\n",
    "            return self._tf_dataloader\n",
    "        except AttributeError:\n",
    "            import tensorflow as tf\n",
    "            \n",
    "            _data = self.data\n",
    "            _log_mfb_shape = self._log_mfb_shape\n",
    "            def _load_data(ytid):\n",
    "                data, label = _data[ytid.numpy().decode('utf-8')]\n",
    "                log_mfb = data['log_mfb']\n",
    "                return log_mfb, label\n",
    "            \n",
    "            @tf.function\n",
    "            def _load_data_tf(ytid):\n",
    "                log_mfb, label = tf.py_function(_load_data, [ytid], [tf.float32, tf.int32])\n",
    "                log_mfb.set_shape(_log_mfb_shape)\n",
    "                label.set_shape(())\n",
    "                return (\n",
    "                    {\n",
    "                        'ytid':ytid,\n",
    "                        'log_mfb': log_mfb\n",
    "                    },\n",
    "                    label\n",
    "                )\n",
    "            self._tf_dataloader = _load_data_tf\n",
    "            return self._tf_dataloader\n",
    "    \n",
    "    def get_shuffled_tf_dataset(self, ytids=None):\n",
    "        if ytids is None:\n",
    "            ytids = self.ytids\n",
    "        return tf.data.Dataset.from_tensor_slices(ytids).shuffle(len(ytids)).map(self.tf_dataloader)\n",
    "    \n",
    "    def get_unshuffled_tf_dataset(self, ytids=None):\n",
    "        if ytids is None:\n",
    "            ytids = self.ytids\n",
    "        return tf.data.Dataset.from_tensor_slices(ytids).map(self.tf_dataloader)\n",
    "    "
   ]
  },
  {
   "cell_type": "code",
   "execution_count": 2,
   "metadata": {},
   "outputs": [
    {
     "name": "stderr",
     "output_type": "stream",
     "text": [
      "Loading data: 100%|██████████| 7841/7841 [00:13<00:00, 573.61it/s]\n"
     ]
    }
   ],
   "source": [
    "annotations_path = '../data/train_test_splits/train_dataset.csv.zip'\n",
    "dataset_path = r'G:\\datasets\\audioset-derived.zip'\n",
    "ytids_path = '../data/train_test_splits/train_ytids.json'\n",
    "\n",
    "dataset = Dataset(annotations_path, dataset_path, ytids_path)"
   ]
  },
  {
   "cell_type": "code",
   "execution_count": 4,
   "metadata": {},
   "outputs": [
    {
     "data": {
      "text/plain": [
       "({'log_mfb': array([[-12.657357 , -11.910873 , -12.428922 , ..., -10.195707 ,\n",
       "          -10.186556 , -10.161953 ],\n",
       "         [-10.5030575, -10.368566 , -10.445654 , ..., -11.005456 ,\n",
       "          -11.021426 , -11.006858 ],\n",
       "         [-10.477143 , -10.238664 , -10.129091 , ..., -11.818546 ,\n",
       "          -11.803687 , -11.785731 ],\n",
       "         ...,\n",
       "         [-11.223254 , -10.959818 , -10.6100025, ..., -11.41233  ,\n",
       "          -11.402614 , -11.389905 ],\n",
       "         [-11.532803 , -11.399852 , -10.256641 , ..., -12.986043 ,\n",
       "          -12.9783125, -12.954549 ],\n",
       "         [-11.877029 , -11.344776 , -10.755081 , ..., -11.223252 ,\n",
       "          -11.207252 , -11.183005 ]], dtype=float32)},\n",
       " 2)"
      ]
     },
     "execution_count": 4,
     "metadata": {},
     "output_type": "execute_result"
    }
   ],
   "source": [
    "dataset.data['--BfvyPmVMo']"
   ]
  },
  {
   "cell_type": "code",
   "execution_count": 5,
   "metadata": {},
   "outputs": [
    {
     "data": {
      "text/plain": [
       "({'ytid': '-OhudZ743CE',\n",
       "  'log_mfb': array([[-14.89137  , -12.728969 , -12.116203 , ...,  -7.0896773,\n",
       "           -7.196857 ,  -8.67631  ],\n",
       "         [-10.76857  , -10.449691 , -10.842775 , ...,  -6.947009 ,\n",
       "           -7.0724125,  -8.099452 ],\n",
       "         [ -9.930698 ,  -7.9328694,  -7.560336 , ...,  -7.804921 ,\n",
       "           -8.327517 ,  -8.520834 ],\n",
       "         ...,\n",
       "         [-12.839853 , -11.126363 ,  -9.748734 , ...,  -8.104726 ,\n",
       "           -7.857449 ,  -7.464834 ],\n",
       "         [-10.298605 ,  -8.610804 ,  -7.6734467, ...,  -8.199435 ,\n",
       "           -9.86635  ,  -9.537319 ],\n",
       "         [-11.363624 ,  -9.043201 ,  -7.110422 , ...,  -8.247557 ,\n",
       "          -10.945918 , -10.742892 ]], dtype=float32)},\n",
       " 0)"
      ]
     },
     "execution_count": 5,
     "metadata": {},
     "output_type": "execute_result"
    }
   ],
   "source": [
    "dataset[0]"
   ]
  },
  {
   "cell_type": "markdown",
   "metadata": {},
   "source": [
    "# TF experiments"
   ]
  },
  {
   "cell_type": "code",
   "execution_count": 6,
   "metadata": {},
   "outputs": [
    {
     "data": {
      "text/plain": [
       "({'ytid': <tf.Tensor: shape=(), dtype=string, numpy=b'VzEqM3da16E'>,\n",
       "  'log_mfb': <tf.Tensor: shape=(1001, 64), dtype=float32, numpy=\n",
       "  array([[ -6.1097007,  -3.9416633,  -4.371738 , ...,  -3.0839028,\n",
       "           -3.7548316,  -3.8276918],\n",
       "         [ -5.5286193,  -4.6864185,  -4.7393837, ...,  -3.04174  ,\n",
       "           -3.7088096,  -4.014519 ],\n",
       "         [ -5.9782786,  -6.1311736,  -8.099994 , ...,  -3.5454993,\n",
       "           -4.1681085,  -4.6266875],\n",
       "         ...,\n",
       "         [-10.78713  ,  -7.548249 ,  -6.2613487, ...,  -4.201949 ,\n",
       "           -4.4311595,  -4.84781  ],\n",
       "         [ -8.842784 ,  -6.6146364,  -6.610764 , ...,  -4.6556497,\n",
       "           -4.9842944,  -5.371841 ],\n",
       "         [ -8.800042 ,  -8.195217 ,  -6.326751 , ...,  -4.674864 ,\n",
       "           -5.120435 ,  -5.6490145]], dtype=float32)>},\n",
       " <tf.Tensor: shape=(), dtype=int32, numpy=1>)"
      ]
     },
     "execution_count": 6,
     "metadata": {},
     "output_type": "execute_result"
    }
   ],
   "source": [
    "import tensorflow as tf\n",
    "train_dataset = dataset.get_shuffled_tf_dataset()\n",
    "\n",
    "next(iter(train_dataset))"
   ]
  },
  {
   "cell_type": "code",
   "execution_count": 6,
   "metadata": {},
   "outputs": [
    {
     "name": "stdout",
     "output_type": "stream",
     "text": [
      "2.88 s ± 35.1 ms per loop (mean ± std. dev. of 7 runs, 1 loop each)\n"
     ]
    }
   ],
   "source": [
    "def _dataset_timer():\n",
    "    for e in train_dataset:\n",
    "        pass\n",
    "\n",
    "%timeit _dataset_timer()"
   ]
  },
  {
   "cell_type": "code",
   "execution_count": 7,
   "metadata": {},
   "outputs": [],
   "source": [
    "class RandomWindow:\n",
    "    def __init__(self, window_size, features, pad_value):\n",
    "        self.window_size = window_size\n",
    "        self.features = features\n",
    "        self.pad_value = pad_value\n",
    "        \n",
    "    def __call__(self, data, label):\n",
    "        data_out = data.copy()\n",
    "        \n",
    "        data_len = tf.shape(data_out[self.features[0]])[0]\n",
    "        \n",
    "        pad_size = tf.maximum(0, self.window_size - data_len)\n",
    "        for feature in self.features:\n",
    "            data_out[feature] = tf.pad(data_out[feature], [[pad_size,0]]+[[0, 0]]*(data[feature].shape.rank-1),\n",
    "                                       constant_values=self.pad_value)\n",
    "        \n",
    "        data_len = data_len + pad_size\n",
    "        \n",
    "        start_idx = tf.random.uniform((), 0, data_len-self.window_size+1, dtype=tf.int32)\n",
    "        end_idx = start_idx + self.window_size\n",
    "        \n",
    "        window = tf.stack([start_idx, end_idx], axis=0)\n",
    "        data_out['window'] = window\n",
    "        \n",
    "        for feature in self.features:\n",
    "            data_out[feature] = data_out[feature][start_idx:end_idx]\n",
    "        return data_out, label\n",
    "    \n",
    "    "
   ]
  },
  {
   "cell_type": "code",
   "execution_count": 8,
   "metadata": {},
   "outputs": [
    {
     "data": {
      "text/plain": [
       "({'ytid': <tf.Tensor: shape=(), dtype=string, numpy=b'B-Id6gGDi9E'>,\n",
       "  'log_mfb': <tf.Tensor: shape=(200, 64), dtype=float32, numpy=\n",
       "  array([[-10.730423 ,  -9.304807 ,  -9.301556 , ...,  -7.3564925,\n",
       "           -7.431468 ,  -8.186854 ],\n",
       "         [ -9.251912 ,  -9.2857   ,  -8.550494 , ...,  -7.7066913,\n",
       "           -7.7682257,  -7.9623384],\n",
       "         [-10.390761 , -10.216873 ,  -9.0816965, ...,  -7.919459 ,\n",
       "           -8.197783 ,  -7.7523375],\n",
       "         ...,\n",
       "         [-12.2998705,  -8.875496 ,  -7.289873 , ...,  -9.314437 ,\n",
       "           -9.722735 ,  -9.7799015],\n",
       "         [ -8.90485  ,  -7.589591 ,  -6.9767375, ..., -10.43234  ,\n",
       "          -10.424762 , -10.047817 ],\n",
       "         [-10.229837 ,  -8.087737 ,  -7.2587786, ...,  -9.223938 ,\n",
       "          -10.249124 , -10.478591 ]], dtype=float32)>,\n",
       "  'window': <tf.Tensor: shape=(2,), dtype=int32, numpy=array([682, 882])>},\n",
       " <tf.Tensor: shape=(), dtype=int32, numpy=1>)"
      ]
     },
     "execution_count": 8,
     "metadata": {},
     "output_type": "execute_result"
    }
   ],
   "source": [
    "random_window = RandomWindow(window_size=200, features=['log_mfb'], pad_value=-16.)\n",
    "\n",
    "window_dataset = train_dataset.map(random_window)\n",
    "\n",
    "next(iter(window_dataset))"
   ]
  },
  {
   "cell_type": "code",
   "execution_count": 9,
   "metadata": {},
   "outputs": [
    {
     "data": {
      "text/plain": [
       "array([[-10.730423 ,  -9.304807 ,  -9.301556 , ...,  -7.3564925,\n",
       "         -7.431468 ,  -8.186854 ],\n",
       "       [ -9.251912 ,  -9.2857   ,  -8.550494 , ...,  -7.7066913,\n",
       "         -7.7682257,  -7.9623384],\n",
       "       [-10.390761 , -10.216873 ,  -9.0816965, ...,  -7.919459 ,\n",
       "         -8.197783 ,  -7.7523375],\n",
       "       ...,\n",
       "       [-12.2998705,  -8.875496 ,  -7.289873 , ...,  -9.314437 ,\n",
       "         -9.722735 ,  -9.7799015],\n",
       "       [ -8.90485  ,  -7.589591 ,  -6.9767375, ..., -10.43234  ,\n",
       "        -10.424762 , -10.047817 ],\n",
       "       [-10.229837 ,  -8.087737 ,  -7.2587786, ...,  -9.223938 ,\n",
       "        -10.249124 , -10.478591 ]], dtype=float32)"
      ]
     },
     "execution_count": 9,
     "metadata": {},
     "output_type": "execute_result"
    }
   ],
   "source": [
    "dataset.data['B-Id6gGDi9E'][0]['log_mfb'][682:882]"
   ]
  },
  {
   "cell_type": "code",
   "execution_count": 10,
   "metadata": {},
   "outputs": [
    {
     "data": {
      "text/plain": [
       "({'ytid': <tf.Tensor: shape=(32,), dtype=string, numpy=\n",
       "  array([b'-N5vYXYJGn0', b'Ec0svHZBxyk', b'-MqTlBT-AHQ', b'8XUVAOMzjFY',\n",
       "         b'DVY5qqxHQyA', b'QHVUSqKkrMc', b'QJ37xmg5Kd0', b'-9srU9TwFnw',\n",
       "         b'QM-rGoklsqE', b'-1wZ7uIA-Qs', b'ebhTLAnD8nQ', b'0RZRFj7zDnQ',\n",
       "         b'JtPcsFkrbSU', b'CmTBVTlArrI', b'BMFmzBBDH_k', b'QRSM9qkPywg',\n",
       "         b'cQna9Zyq37M', b'QFke_rVztPY', b'4TFCpuwtSdU', b'STe3TUVpJoc',\n",
       "         b'-KVHAAfS0qQ', b'--1nnAww5MY', b'-Z1ZSWDouUU', b'P4aTFrJws40',\n",
       "         b'9dx9IhSqwC4', b'MqQNO5Uo8HM', b'BL6DESnl79Y', b'35scjU1vIGw',\n",
       "         b'-1XMHlpbDc8', b'Cxg_hn2cLhc', b'QP9ethxU03c', b'XzRxO8n3WRE'],\n",
       "        dtype=object)>,\n",
       "  'log_mfb': <tf.Tensor: shape=(32, 200, 64), dtype=float32, numpy=\n",
       "  array([[[-10.944441 , -10.382028 , -11.201226 , ...,  -6.805329 ,\n",
       "            -7.679354 ,  -8.771717 ],\n",
       "          [-11.16768  , -10.558443 , -11.261365 , ...,  -6.806487 ,\n",
       "            -7.7153053,  -8.765092 ],\n",
       "          [-11.196216 , -10.603569 , -11.02641  , ...,  -6.3928046,\n",
       "            -6.78672  ,  -8.741244 ],\n",
       "          ...,\n",
       "          [-14.182424 , -12.248009 , -10.311966 , ...,  -7.0322027,\n",
       "            -7.8924694,  -8.51244  ],\n",
       "          [-15.910875 , -12.985843 , -11.730366 , ...,  -6.819815 ,\n",
       "            -7.669566 ,  -8.415993 ],\n",
       "          [-13.742539 , -12.88514  , -12.378937 , ...,  -6.9489045,\n",
       "            -7.7427773,  -8.524496 ]],\n",
       "  \n",
       "         [[ -7.4624267,  -7.228491 ,  -7.1750684, ...,  -6.260428 ,\n",
       "            -6.308463 ,  -7.043174 ],\n",
       "          [ -8.633066 ,  -8.426212 ,  -8.211989 , ...,  -6.3368764,\n",
       "            -6.5475626,  -7.016695 ],\n",
       "          [ -8.657202 ,  -8.434789 ,  -8.253639 , ...,  -6.4473567,\n",
       "            -6.3324485,  -7.2566338],\n",
       "          ...,\n",
       "          [ -7.9133825,  -7.6971135,  -7.6029043, ...,  -5.980344 ,\n",
       "            -6.3984456,  -7.0713706],\n",
       "          [ -8.832874 ,  -8.620755 ,  -8.736906 , ...,  -5.9540305,\n",
       "            -6.2991714,  -6.9582176],\n",
       "          [ -8.986338 ,  -8.837819 ,  -8.767629 , ...,  -6.071574 ,\n",
       "            -6.3075967,  -7.0073123]],\n",
       "  \n",
       "         [[-10.144456 ,  -9.9299555,  -9.847309 , ...,  -8.140371 ,\n",
       "            -8.614305 ,  -8.471557 ],\n",
       "          [-10.931624 , -10.655612 , -10.9500675, ...,  -7.555561 ,\n",
       "            -8.189298 ,  -8.149046 ],\n",
       "          [-10.575432 , -10.312389 , -10.229367 , ...,  -5.657921 ,\n",
       "            -6.045197 ,  -6.338752 ],\n",
       "          ...,\n",
       "          [-13.737818 , -13.27961  , -13.089044 , ...,  -9.125708 ,\n",
       "           -10.54326  , -11.124092 ],\n",
       "          [-11.971361 , -11.687065 , -11.510014 , ...,  -9.23846  ,\n",
       "           -11.58574  , -11.855701 ],\n",
       "          [ -9.722842 ,  -9.46595  ,  -9.75924  , ...,  -9.917537 ,\n",
       "           -10.796867 , -10.790339 ]],\n",
       "  \n",
       "         ...,\n",
       "  \n",
       "         [[-12.61926  , -12.259953 , -11.75757  , ..., -10.784677 ,\n",
       "           -10.835041 , -10.8687105],\n",
       "          [-12.154918 , -12.099891 , -11.738334 , ..., -12.168488 ,\n",
       "           -12.365735 , -12.478434 ],\n",
       "          [-12.885237 , -11.854194 , -10.743704 , ..., -11.115255 ,\n",
       "           -11.176911 , -11.254641 ],\n",
       "          ...,\n",
       "          [ -9.6106   ,  -8.14341  ,  -6.2618656, ..., -11.620067 ,\n",
       "           -10.782032 , -11.89789  ],\n",
       "          [ -9.6293545,  -7.932967 ,  -5.893437 , ..., -11.010304 ,\n",
       "           -10.522098 , -11.480741 ],\n",
       "          [-11.950222 ,  -8.721009 ,  -6.4209924, ..., -10.88493  ,\n",
       "           -10.73032  , -11.784371 ]],\n",
       "  \n",
       "         [[ -8.628301 ,  -8.417244 ,  -7.763016 , ...,  -8.314955 ,\n",
       "            -7.2962837,  -8.782966 ],\n",
       "          [-10.41159  ,  -9.342988 ,  -8.510234 , ...,  -8.80789  ,\n",
       "            -7.240433 ,  -8.586857 ],\n",
       "          [-11.934862 ,  -9.947111 ,  -9.210207 , ...,  -8.75084  ,\n",
       "            -7.7724996,  -8.922773 ],\n",
       "          ...,\n",
       "          [-11.133911 ,  -7.7092695,  -6.902267 , ...,  -7.8736143,\n",
       "            -8.30613  ,  -8.926108 ],\n",
       "          [-10.436389 ,  -8.400738 ,  -7.057587 , ...,  -8.067353 ,\n",
       "            -8.172024 ,  -9.210687 ],\n",
       "          [-10.848803 ,  -7.8365283,  -6.9188395, ...,  -8.018598 ,\n",
       "            -8.521909 ,  -9.072288 ]],\n",
       "  \n",
       "         [[ -9.554199 ,  -9.304167 ,  -9.013247 , ...,  -8.679251 ,\n",
       "            -8.698016 ,  -9.626835 ],\n",
       "          [ -8.770604 ,  -8.536851 ,  -8.204591 , ...,  -9.086272 ,\n",
       "            -8.961823 ,  -9.247777 ],\n",
       "          [ -9.78344  ,  -9.11312  ,  -8.967821 , ...,  -9.215494 ,\n",
       "            -9.244695 ,  -9.185593 ],\n",
       "          ...,\n",
       "          [ -9.854125 ,  -9.505821 , -10.318324 , ...,  -8.424052 ,\n",
       "            -8.683604 ,  -9.112054 ],\n",
       "          [ -8.777399 ,  -8.235132 ,  -7.5651264, ...,  -8.483816 ,\n",
       "            -8.69117  ,  -9.0952215],\n",
       "          [ -9.212926 ,  -9.346339 ,  -7.147957 , ...,  -8.787202 ,\n",
       "            -8.79765  ,  -9.008613 ]]], dtype=float32)>,\n",
       "  'window': <tf.Tensor: shape=(32, 2), dtype=int32, numpy=\n",
       "  array([[314, 514],\n",
       "         [262, 462],\n",
       "         [197, 397],\n",
       "         [496, 696],\n",
       "         [792, 992],\n",
       "         [273, 473],\n",
       "         [ 78, 278],\n",
       "         [357, 557],\n",
       "         [ 56, 256],\n",
       "         [131, 331],\n",
       "         [246, 446],\n",
       "         [474, 674],\n",
       "         [332, 532],\n",
       "         [753, 953],\n",
       "         [117, 317],\n",
       "         [293, 493],\n",
       "         [  0, 200],\n",
       "         [254, 454],\n",
       "         [  9, 209],\n",
       "         [466, 666],\n",
       "         [165, 365],\n",
       "         [325, 525],\n",
       "         [391, 591],\n",
       "         [152, 352],\n",
       "         [136, 336],\n",
       "         [113, 313],\n",
       "         [  2, 202],\n",
       "         [387, 587],\n",
       "         [ 72, 272],\n",
       "         [638, 838],\n",
       "         [ 46, 246],\n",
       "         [119, 319]])>},\n",
       " <tf.Tensor: shape=(32,), dtype=int32, numpy=\n",
       " array([0, 2, 0, 1, 1, 2, 2, 0, 0, 0, 1, 1, 0, 2, 2, 0, 1, 0, 2, 1, 0, 0,\n",
       "        2, 1, 1, 1, 2, 1, 0, 1, 0, 1])>)"
      ]
     },
     "execution_count": 10,
     "metadata": {},
     "output_type": "execute_result"
    }
   ],
   "source": [
    "window_dataset_batched = window_dataset.batch(32)\n",
    "\n",
    "next(iter(window_dataset_batched))"
   ]
  },
  {
   "cell_type": "markdown",
   "metadata": {},
   "source": [
    "# Torch Experiments"
   ]
  },
  {
   "cell_type": "code",
   "execution_count": 1,
   "metadata": {},
   "outputs": [],
   "source": [
    "\n",
    "import pandas as pd\n",
    "import numpy as np\n",
    "import json\n",
    "import zipfile\n",
    "from tqdm import tqdm\n",
    "\n",
    "class Dataset:\n",
    "    _log_mfb_shape = (None, 64)\n",
    "    def __init__(self, annotations_path, dataset_path, ytids_path,\n",
    "                 class_associations=(('speech',0),('music',1),('noise',2)),\n",
    "                 transform_fn = None,\n",
    "                 data = None,\n",
    "                 load_data=True):\n",
    "        self.annotations = pd.read_csv(annotations_path).set_index('ytid')\n",
    "        self.dataset_path = dataset_path\n",
    "        with open(ytids_path, 'r') as f:\n",
    "            self.ytids = json.load(f)\n",
    "        self.class_associations = dict(class_associations)\n",
    "        self.reverse_class_associations = dict((v,k) for k,v in class_associations)\n",
    "        self.transform_fn = transform_fn\n",
    "        \n",
    "        if load_data:\n",
    "            self.load_data()\n",
    "    \n",
    "    def load_data(self):\n",
    "        self.data = {}\n",
    "        with zipfile.ZipFile(self.dataset_path, 'r') as zf:\n",
    "            for ytid in tqdm(self.ytids, desc='Loading data'):\n",
    "                data = {}\n",
    "                with zf.open(self.annotations.loc[ytid,'log_mfb_path']) as f:\n",
    "                    data['log_mfb'] = np.load(f)\n",
    "                \n",
    "                data['label'] = self.class_associations[self.annotations.loc\n",
    "                                                        [ytid,'plausible_superclass']]\n",
    "                self.data[ytid] = data\n",
    "    \n",
    "    def __getitem__(self, index):\n",
    "        ytid = self.ytids[index]\n",
    "        data_without_ytid = self.data[ytid]\n",
    "        data = {'ytid':ytid}\n",
    "        data.update(data_without_ytid)\n",
    "        if self.transform_fn is not None:\n",
    "            data = self.transform_fn(data)\n",
    "        return data\n",
    "    \n",
    "    def __len__(self):\n",
    "        return len(self.data)\n",
    "    \n",
    "    \n",
    "\n",
    "class RandomWindow:\n",
    "    def __init__(self, window_size, features, pad_value):\n",
    "        self.window_size = window_size\n",
    "        self.features = features\n",
    "        self.pad_value = pad_value\n",
    "        \n",
    "    def __call__(self, data):\n",
    "        data_out = data.copy()\n",
    "        \n",
    "        data_len = data_out[self.features[0]].shape[0]\n",
    "        \n",
    "        pad_size = max(0, self.window_size - data_len)\n",
    "        if pad_size > 0:\n",
    "            for feature in self.features:\n",
    "                data_out[feature] = np.pad(data_out[feature], [[pad_size,0]]+[[0, 0]]*(len(data[feature].shape)-1),\n",
    "                                        constant_values=self.pad_value)\n",
    "            data_len = data_len + pad_size\n",
    "            data_out['window'] = np.array([0, data_len], dtype=np.int32)\n",
    "        else:\n",
    "            start_idx = np.random.randint(0, data_len-self.window_size+1, dtype=np.int32)\n",
    "            end_idx = start_idx + self.window_size\n",
    "            \n",
    "            window = np.stack([start_idx, end_idx], axis=0)\n",
    "            data_out['window'] = window\n",
    "            \n",
    "            for feature in self.features:\n",
    "                data_out[feature] = data_out[feature][start_idx:end_idx]\n",
    "        return data_out\n"
   ]
  },
  {
   "cell_type": "code",
   "execution_count": 2,
   "metadata": {},
   "outputs": [
    {
     "name": "stderr",
     "output_type": "stream",
     "text": [
      "Loading data: 100%|██████████| 7841/7841 [00:10<00:00, 779.44it/s]\n"
     ]
    }
   ],
   "source": [
    "annotations_path = '../data/train_test_splits/train_dataset.csv.zip'\n",
    "dataset_path = r'G:\\datasets\\audioset-derived.zip'\n",
    "ytids_path = '../data/train_test_splits/train_ytids.json'\n",
    "\n",
    "random_window = RandomWindow(window_size=200, features=['log_mfb'], pad_value=-16.)\n",
    "dataset = Dataset(annotations_path, dataset_path, ytids_path, transform_fn=random_window)"
   ]
  },
  {
   "cell_type": "code",
   "execution_count": 22,
   "metadata": {},
   "outputs": [
    {
     "data": {
      "text/plain": [
       "{'ytid': '-OhudZ743CE',\n",
       " 'log_mfb': array([[ -9.714898 ,  -7.8681226,  -6.9284725, ...,  -9.486728 ,\n",
       "         -10.693724 , -11.042415 ],\n",
       "        [ -9.737786 ,  -9.259062 ,  -7.601204 , ...,  -8.273821 ,\n",
       "          -8.8921795,  -9.107322 ],\n",
       "        [ -7.815244 ,  -7.790437 ,  -7.3319097, ...,  -8.832484 ,\n",
       "          -9.531226 , -10.547821 ],\n",
       "        ...,\n",
       "        [-11.421468 , -11.281325 , -11.325998 , ...,  -5.6270795,\n",
       "          -6.1960373,  -6.6504436],\n",
       "        [-13.191524 , -13.413879 , -13.653507 , ...,  -6.8725953,\n",
       "          -7.4126644,  -7.3682575],\n",
       "        [-10.307065 ,  -9.902206 ,  -9.737846 , ...,  -7.8437257,\n",
       "          -8.271171 ,  -8.361786 ]], dtype=float32),\n",
       " 'label': 0,\n",
       " 'window': array([349, 549])}"
      ]
     },
     "execution_count": 22,
     "metadata": {},
     "output_type": "execute_result"
    }
   ],
   "source": [
    "dataset[0]"
   ]
  },
  {
   "cell_type": "code",
   "execution_count": 54,
   "metadata": {},
   "outputs": [
    {
     "data": {
      "text/plain": [
       "{'ytid': '-OhudZ743CE',\n",
       " 'log_mfb': array([[-11.416741 , -10.347622 ,  -9.73281  , ..., -11.6811   ,\n",
       "         -11.643856 , -11.639836 ],\n",
       "        [-12.532125 , -10.655686 ,  -9.6775465, ..., -11.618555 ,\n",
       "         -11.044423 , -11.50934  ],\n",
       "        [-13.42306  , -10.803362 ,  -9.418505 , ..., -11.20941  ,\n",
       "         -10.838674 , -11.4871435],\n",
       "        ...,\n",
       "        [-12.997514 , -11.296269 , -10.689694 , ..., -10.445326 ,\n",
       "          -9.451973 , -10.520681 ],\n",
       "        [-11.977348 , -10.564443 , -10.187405 , ..., -10.548757 ,\n",
       "          -9.502732 , -10.760075 ],\n",
       "        [-11.956531 , -10.832023 , -10.045336 , ..., -10.259729 ,\n",
       "          -9.270515 , -10.563932 ]], dtype=float32),\n",
       " 'label': 0,\n",
       " 'window': array([189, 389])}"
      ]
     },
     "execution_count": 54,
     "metadata": {},
     "output_type": "execute_result"
    }
   ],
   "source": [
    "dataset.transform_fn = RandomWindow(window_size=200, features=['log_mfb'], pad_value=-16.)\n",
    "dataset[0]"
   ]
  },
  {
   "cell_type": "code",
   "execution_count": 58,
   "metadata": {},
   "outputs": [
    {
     "name": "stdout",
     "output_type": "stream",
     "text": [
      "{'ytid': ['3OUNEL8XaR0', '3FJFcgaa0oE', 'FGoDfNZezh0', '9BHvpWP2V9Y', '4M-Q1DGFQsk', '-0ZEUItqz3E', 'MTB-P5Bt3_Q', '-Iyr8rHMMMY', '-OtGsSBS9xg', '4BO6EbCTKwM', 'AoIHTerxdas', '-5JJzt0-PxM', '-JGJ3Y_GiEc', 'E3wQrPffYuc', '-K0BFxTJzNw', '-MIiDF56GoA', 'VfEJHqtsuIo', '4oI3MUQn-M0', 'kj1hFWgc98s', '-26I2EZZpNo', 'g1HyZDXSyI8', 'QOcSskkipGY', 'MLmmVEDpWls', 'kIEEDYowZhA', '9EsNtRXnYbE', 'QSx5MMn1vJQ', '-35kWQH9FVg', 'CT6AQ9fhe4s', '-All_IT36WQ', 'EO5G5HDH090', 'NtInDkT7GHQ', 'EabhwDpC30s'], 'log_mfb': tensor([[[-11.7831, -11.8407, -12.4903,  ..., -12.1648, -12.7539, -14.2098],\n",
      "         [-10.5526, -10.7212, -11.3150,  ..., -11.7971, -12.2629, -12.5421],\n",
      "         [-11.2378, -13.0192, -13.3352,  ..., -12.4883, -13.2087, -14.8138],\n",
      "         ...,\n",
      "         [-10.1961,  -9.8067,  -9.3711,  ...,  -8.2074,  -9.8707, -10.6815],\n",
      "         [ -8.9263,  -8.9588,  -8.3211,  ...,  -8.5484,  -9.8192, -10.4672],\n",
      "         [ -9.9688,  -9.3545,  -8.5890,  ...,  -8.7075,  -9.8859, -10.3209]],\n",
      "\n",
      "        [[ -5.7137,  -4.6046,  -6.1393,  ...,  -6.2253,  -7.1076,  -7.0252],\n",
      "         [ -6.0561,  -5.1196,  -7.2176,  ...,  -6.1084,  -6.7460,  -6.7105],\n",
      "         [ -6.8225,  -5.1823,  -6.7432,  ...,  -6.1697,  -6.4369,  -6.9983],\n",
      "         ...,\n",
      "         [ -8.1721,  -7.2032,  -6.4453,  ...,  -0.9329,  -1.8989,  -3.1908],\n",
      "         [ -7.9278,  -6.8429,  -5.4260,  ...,  -3.0721,  -3.4872,  -4.6320],\n",
      "         [ -9.8000,  -7.6551,  -5.2276,  ...,  -4.1734,  -4.5698,  -5.3405]],\n",
      "\n",
      "        [[-10.3653,  -7.8604,  -7.1992,  ..., -10.5238, -10.6805, -10.7358],\n",
      "         [ -9.6325,  -7.5430,  -7.4888,  ..., -11.9929, -12.6780, -13.0477],\n",
      "         [ -9.1818,  -8.3207,  -7.0501,  ..., -10.2150, -10.4625, -10.5763],\n",
      "         ...,\n",
      "         [ -8.8781,  -7.9674,  -7.4103,  ..., -10.7378, -10.8258, -10.8700],\n",
      "         [ -9.9845,  -7.5641,  -7.1992,  ..., -10.0465, -10.2770, -10.3781],\n",
      "         [-10.0444,  -7.4374,  -7.2830,  ...,  -9.3555,  -9.4703,  -9.5041]],\n",
      "\n",
      "        ...,\n",
      "\n",
      "        [[-10.3043,  -8.5568,  -6.7420,  ..., -10.4320, -10.4377, -10.8628],\n",
      "         [ -9.1644,  -7.8537,  -5.9321,  ..., -10.0480,  -9.5613,  -9.9602],\n",
      "         [ -9.3717,  -7.7395,  -6.3634,  ...,  -9.4308,  -9.2200,  -9.2704],\n",
      "         ...,\n",
      "         [ -7.1003,  -6.3459,  -5.8910,  ..., -10.1772, -10.0611, -10.5452],\n",
      "         [ -8.0905,  -7.1408,  -6.4386,  ..., -10.2339, -10.2523, -10.7077],\n",
      "         [ -9.1779,  -7.8342,  -6.8703,  ..., -10.0902, -10.2081, -10.4941]],\n",
      "\n",
      "        [[-12.3827, -12.0369, -11.7747,  ...,  -4.1914,  -5.6811,  -6.5549],\n",
      "         [-12.1005, -11.3961, -11.4360,  ...,  -4.0944,  -5.7516,  -6.9558],\n",
      "         [-10.7226, -10.4186, -10.8559,  ...,  -4.0760,  -5.6641,  -6.7006],\n",
      "         ...,\n",
      "         [-10.2375,  -7.7758,  -8.4782,  ...,  -5.2874,  -5.7736,  -6.8071],\n",
      "         [ -9.3861,  -7.6259,  -7.9283,  ...,  -5.3045,  -5.5102,  -6.7484],\n",
      "         [-11.2060,  -7.7121,  -7.9895,  ...,  -5.3479,  -5.2670,  -6.3787]],\n",
      "\n",
      "        [[-10.2653,  -9.8510,  -9.8195,  ...,  -9.6045, -10.6767, -11.1806],\n",
      "         [-12.0039, -11.4309, -10.9375,  ...,  -8.3232,  -9.4053,  -9.9507],\n",
      "         [-10.3481, -10.0716, -10.1304,  ...,  -7.4312,  -8.4865,  -9.0363],\n",
      "         ...,\n",
      "         [-10.7425, -10.4676, -10.7043,  ...,  -7.6849,  -8.4379,  -9.4119],\n",
      "         [-11.8260, -11.6655, -11.5920,  ...,  -7.6432,  -8.0065,  -8.9585],\n",
      "         [-11.4688, -11.1713, -11.0693,  ...,  -7.7644,  -7.7484,  -8.3898]]]), 'label': tensor([1, 1, 1, 1, 2, 0, 1, 0, 0, 2, 2, 0, 0, 2, 0, 0, 1, 2, 1, 0, 1, 0, 2, 1,\n",
      "        2, 0, 0, 1, 0, 1, 1, 1]), 'window': tensor([[585, 785],\n",
      "        [240, 440],\n",
      "        [722, 922],\n",
      "        [443, 643],\n",
      "        [  0, 200],\n",
      "        [ 12, 212],\n",
      "        [674, 874],\n",
      "        [333, 533],\n",
      "        [470, 670],\n",
      "        [ 71, 271],\n",
      "        [477, 677],\n",
      "        [  0, 200],\n",
      "        [226, 426],\n",
      "        [391, 591],\n",
      "        [384, 584],\n",
      "        [281, 481],\n",
      "        [474, 674],\n",
      "        [137, 337],\n",
      "        [101, 301],\n",
      "        [ 19, 219],\n",
      "        [317, 517],\n",
      "        [589, 789],\n",
      "        [  0, 200],\n",
      "        [280, 480],\n",
      "        [ 14, 214],\n",
      "        [375, 575],\n",
      "        [125, 325],\n",
      "        [136, 336],\n",
      "        [196, 396],\n",
      "        [285, 485],\n",
      "        [395, 595],\n",
      "        [305, 505]], dtype=torch.int32)}\n"
     ]
    }
   ],
   "source": [
    "from torch.utils.data import DataLoader\n",
    "\n",
    "dataloader = DataLoader(dataset, batch_size=32, shuffle=True, pin_memory=True)\n",
    "\n",
    "for batch in dataloader:\n",
    "    print(batch)\n",
    "    break"
   ]
  }
 ],
 "metadata": {
  "interpreter": {
   "hash": "b3ba2566441a7c06988d0923437866b63cedc61552a5af99d1f4fb67d367b25f"
  },
  "kernelspec": {
   "display_name": "Python 3.8.3 64-bit ('base': conda)",
   "name": "python3"
  },
  "language_info": {
   "codemirror_mode": {
    "name": "ipython",
    "version": 3
   },
   "file_extension": ".py",
   "mimetype": "text/x-python",
   "name": "python",
   "nbconvert_exporter": "python",
   "pygments_lexer": "ipython3",
   "version": "3.8.3"
  },
  "orig_nbformat": 4
 },
 "nbformat": 4,
 "nbformat_minor": 2
}
