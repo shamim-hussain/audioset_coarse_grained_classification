{
 "cells": [
  {
   "cell_type": "code",
   "execution_count": 1,
   "metadata": {},
   "outputs": [
    {
     "name": "stdout",
     "output_type": "stream",
     "text": [
      "e:\\Projects\\audioset_coarse_grained_classification\n"
     ]
    }
   ],
   "source": [
    "%cd .."
   ]
  },
  {
   "cell_type": "code",
   "execution_count": 2,
   "metadata": {},
   "outputs": [
    {
     "data": {
      "text/plain": [
       "SwishNetV2(\n",
       "  (base): Sequential(\n",
       "    (0): ZeroPad2d(padding=(0, 0, 5, 5), value=0.0)\n",
       "    (1): Conv2d(1, 20, kernel_size=(7, 60), stride=(1, 1))\n",
       "    (2): MaxPool2d(kernel_size=5, stride=1, padding=0, dilation=1, ceil_mode=False)\n",
       "  )\n",
       "  (sep_convs): ModuleList(\n",
       "    (0): Sequential(\n",
       "      (0): Conv1d(40, 80, kernel_size=(6,), stride=(1,), groups=40, bias=False)\n",
       "      (1): Conv1d(80, 32, kernel_size=(1,), stride=(1,))\n",
       "    )\n",
       "    (1): Sequential(\n",
       "      (0): Conv1d(16, 32, kernel_size=(6,), stride=(1,), groups=16, bias=False)\n",
       "      (1): Conv1d(32, 16, kernel_size=(1,), stride=(1,))\n",
       "    )\n",
       "    (2): Sequential(\n",
       "      (0): Conv1d(8, 16, kernel_size=(6,), stride=(1,), groups=8, bias=False)\n",
       "      (1): Conv1d(16, 16, kernel_size=(1,), stride=(1,))\n",
       "    )\n",
       "  )\n",
       "  (convs): ModuleList(\n",
       "    (0): Conv1d(8, 16, kernel_size=(3,), stride=(1,), dilation=(2,))\n",
       "    (1): Conv1d(8, 16, kernel_size=(3,), stride=(1,), dilation=(4,))\n",
       "    (2): Conv1d(8, 16, kernel_size=(3,), stride=(1,), dilation=(8,))\n",
       "    (3): Conv1d(8, 16, kernel_size=(3,), stride=(1,), dilation=(16,))\n",
       "  )\n",
       "  (final_conv): Conv1d(8, 32, kernel_size=(3,), stride=(1,), dilation=(32,))\n",
       "  (final_linear): Linear(in_features=48, out_features=3, bias=True)\n",
       ")"
      ]
     },
     "execution_count": 2,
     "metadata": {},
     "output_type": "execute_result"
    }
   ],
   "source": [
    "from lib.training.schemes.swishnet._base import SwishNetV2\n",
    "\n",
    "model = SwishNetV2()\n",
    "model"
   ]
  },
  {
   "cell_type": "code",
   "execution_count": 3,
   "metadata": {},
   "outputs": [
    {
     "data": {
      "text/plain": [
       "torch.Size([1, 3])"
      ]
     },
     "execution_count": 3,
     "metadata": {},
     "output_type": "execute_result"
    }
   ],
   "source": [
    "import torch\n",
    "\n",
    "x = torch.empty(1,200,64).normal_()\n",
    "model(x).shape"
   ]
  },
  {
   "cell_type": "code",
   "execution_count": null,
   "metadata": {},
   "outputs": [],
   "source": []
  }
 ],
 "metadata": {
  "interpreter": {
   "hash": "b3ba2566441a7c06988d0923437866b63cedc61552a5af99d1f4fb67d367b25f"
  },
  "kernelspec": {
   "display_name": "Python 3.8.3 64-bit ('base': conda)",
   "language": "python",
   "name": "python3"
  },
  "language_info": {
   "codemirror_mode": {
    "name": "ipython",
    "version": 3
   },
   "file_extension": ".py",
   "mimetype": "text/x-python",
   "name": "python",
   "nbconvert_exporter": "python",
   "pygments_lexer": "ipython3",
   "version": "3.8.3"
  },
  "orig_nbformat": 4
 },
 "nbformat": 4,
 "nbformat_minor": 2
}
